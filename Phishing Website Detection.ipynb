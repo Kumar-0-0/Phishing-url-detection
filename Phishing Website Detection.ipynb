{
 "cells": [
  {
   "cell_type": "code",
   "execution_count": 1,
   "id": "3b4c40c7",
   "metadata": {},
   "outputs": [],
   "source": [
    "import numpy as np\n",
    "import pandas as pd"
   ]
  },
  {
   "cell_type": "code",
   "execution_count": 2,
   "id": "dce919b9",
   "metadata": {},
   "outputs": [],
   "source": [
    "raw_data = pd.read_csv(\"dataset2.csv\")"
   ]
  },
  {
   "cell_type": "code",
   "execution_count": 3,
   "id": "95d9b9c5",
   "metadata": {},
   "outputs": [
    {
     "data": {
      "text/html": [
       "<div>\n",
       "<style scoped>\n",
       "    .dataframe tbody tr th:only-of-type {\n",
       "        vertical-align: middle;\n",
       "    }\n",
       "\n",
       "    .dataframe tbody tr th {\n",
       "        vertical-align: top;\n",
       "    }\n",
       "\n",
       "    .dataframe thead th {\n",
       "        text-align: right;\n",
       "    }\n",
       "</style>\n",
       "<table border=\"1\" class=\"dataframe\">\n",
       "  <thead>\n",
       "    <tr style=\"text-align: right;\">\n",
       "      <th></th>\n",
       "      <th>URL</th>\n",
       "      <th>Target</th>\n",
       "      <th>Unnamed: 2</th>\n",
       "      <th>Unnamed: 3</th>\n",
       "      <th>Unnamed: 4</th>\n",
       "      <th>Unnamed: 5</th>\n",
       "    </tr>\n",
       "  </thead>\n",
       "  <tbody>\n",
       "    <tr>\n",
       "      <th>0</th>\n",
       "      <td>https://locking-app-adverds.000webhostapp.com/...</td>\n",
       "      <td>yes</td>\n",
       "      <td>NaN</td>\n",
       "      <td>NaN</td>\n",
       "      <td>NaN</td>\n",
       "      <td>NaN</td>\n",
       "    </tr>\n",
       "    <tr>\n",
       "      <th>1</th>\n",
       "      <td>http://www.myhealthcarepharmacy.ca/wp-includes...</td>\n",
       "      <td>yes</td>\n",
       "      <td>NaN</td>\n",
       "      <td>NaN</td>\n",
       "      <td>NaN</td>\n",
       "      <td>NaN</td>\n",
       "    </tr>\n",
       "    <tr>\n",
       "      <th>2</th>\n",
       "      <td>http://code.google.com/p/pylevenshtein/</td>\n",
       "      <td>no</td>\n",
       "      <td>NaN</td>\n",
       "      <td>NaN</td>\n",
       "      <td>NaN</td>\n",
       "      <td>NaN</td>\n",
       "    </tr>\n",
       "    <tr>\n",
       "      <th>3</th>\n",
       "      <td>http://linkedin.com/</td>\n",
       "      <td>no</td>\n",
       "      <td>NaN</td>\n",
       "      <td>NaN</td>\n",
       "      <td>NaN</td>\n",
       "      <td>NaN</td>\n",
       "    </tr>\n",
       "    <tr>\n",
       "      <th>4</th>\n",
       "      <td>http://imageshack.com/f/219/cadir2yr3.jpg</td>\n",
       "      <td>no</td>\n",
       "      <td>NaN</td>\n",
       "      <td>NaN</td>\n",
       "      <td>NaN</td>\n",
       "      <td>NaN</td>\n",
       "    </tr>\n",
       "  </tbody>\n",
       "</table>\n",
       "</div>"
      ],
      "text/plain": [
       "                                                 URL Target  Unnamed: 2  \\\n",
       "0  https://locking-app-adverds.000webhostapp.com/...    yes         NaN   \n",
       "1  http://www.myhealthcarepharmacy.ca/wp-includes...    yes         NaN   \n",
       "2            http://code.google.com/p/pylevenshtein/     no         NaN   \n",
       "3                               http://linkedin.com/     no         NaN   \n",
       "4          http://imageshack.com/f/219/cadir2yr3.jpg     no         NaN   \n",
       "\n",
       "   Unnamed: 3  Unnamed: 4  Unnamed: 5  \n",
       "0         NaN         NaN         NaN  \n",
       "1         NaN         NaN         NaN  \n",
       "2         NaN         NaN         NaN  \n",
       "3         NaN         NaN         NaN  \n",
       "4         NaN         NaN         NaN  "
      ]
     },
     "execution_count": 3,
     "metadata": {},
     "output_type": "execute_result"
    }
   ],
   "source": [
    "raw_data.head()"
   ]
  },
  {
   "cell_type": "code",
   "execution_count": 4,
   "id": "ac106bc2",
   "metadata": {},
   "outputs": [
    {
     "data": {
      "text/plain": [
       "0    [https, locking-app-adverds.000webhostapp.com/...\n",
       "1    [http, www.myhealthcarepharmacy.ca/wp-includes...\n",
       "2             [http, code.google.com/p/pylevenshtein/]\n",
       "3                                [http, linkedin.com/]\n",
       "4           [http, imageshack.com/f/219/cadir2yr3.jpg]\n",
       "Name: URL, dtype: object"
      ]
     },
     "execution_count": 4,
     "metadata": {},
     "output_type": "execute_result"
    }
   ],
   "source": [
    "raw_data['URL'].str.split(\"://\").head()"
   ]
  },
  {
   "cell_type": "code",
   "execution_count": 5,
   "id": "5af75912",
   "metadata": {},
   "outputs": [],
   "source": [
    "seperation_of_protocol = raw_data['URL'].str.split(\"://\",expand = True)"
   ]
  },
  {
   "cell_type": "code",
   "execution_count": 6,
   "id": "f69a7f08",
   "metadata": {},
   "outputs": [
    {
     "data": {
      "text/html": [
       "<div>\n",
       "<style scoped>\n",
       "    .dataframe tbody tr th:only-of-type {\n",
       "        vertical-align: middle;\n",
       "    }\n",
       "\n",
       "    .dataframe tbody tr th {\n",
       "        vertical-align: top;\n",
       "    }\n",
       "\n",
       "    .dataframe thead th {\n",
       "        text-align: right;\n",
       "    }\n",
       "</style>\n",
       "<table border=\"1\" class=\"dataframe\">\n",
       "  <thead>\n",
       "    <tr style=\"text-align: right;\">\n",
       "      <th></th>\n",
       "      <th>0</th>\n",
       "      <th>1</th>\n",
       "      <th>2</th>\n",
       "      <th>3</th>\n",
       "      <th>4</th>\n",
       "      <th>5</th>\n",
       "      <th>6</th>\n",
       "    </tr>\n",
       "  </thead>\n",
       "  <tbody>\n",
       "    <tr>\n",
       "      <th>0</th>\n",
       "      <td>https</td>\n",
       "      <td>locking-app-adverds.000webhostapp.com/payment-...</td>\n",
       "      <td>None</td>\n",
       "      <td>None</td>\n",
       "      <td>None</td>\n",
       "      <td>None</td>\n",
       "      <td>None</td>\n",
       "    </tr>\n",
       "    <tr>\n",
       "      <th>1</th>\n",
       "      <td>http</td>\n",
       "      <td>www.myhealthcarepharmacy.ca/wp-includes/js/jqu...</td>\n",
       "      <td>None</td>\n",
       "      <td>None</td>\n",
       "      <td>None</td>\n",
       "      <td>None</td>\n",
       "      <td>None</td>\n",
       "    </tr>\n",
       "    <tr>\n",
       "      <th>2</th>\n",
       "      <td>http</td>\n",
       "      <td>code.google.com/p/pylevenshtein/</td>\n",
       "      <td>None</td>\n",
       "      <td>None</td>\n",
       "      <td>None</td>\n",
       "      <td>None</td>\n",
       "      <td>None</td>\n",
       "    </tr>\n",
       "    <tr>\n",
       "      <th>3</th>\n",
       "      <td>http</td>\n",
       "      <td>linkedin.com/</td>\n",
       "      <td>None</td>\n",
       "      <td>None</td>\n",
       "      <td>None</td>\n",
       "      <td>None</td>\n",
       "      <td>None</td>\n",
       "    </tr>\n",
       "    <tr>\n",
       "      <th>4</th>\n",
       "      <td>http</td>\n",
       "      <td>imageshack.com/f/219/cadir2yr3.jpg</td>\n",
       "      <td>None</td>\n",
       "      <td>None</td>\n",
       "      <td>None</td>\n",
       "      <td>None</td>\n",
       "      <td>None</td>\n",
       "    </tr>\n",
       "  </tbody>\n",
       "</table>\n",
       "</div>"
      ],
      "text/plain": [
       "       0                                                  1     2     3     4  \\\n",
       "0  https  locking-app-adverds.000webhostapp.com/payment-...  None  None  None   \n",
       "1   http  www.myhealthcarepharmacy.ca/wp-includes/js/jqu...  None  None  None   \n",
       "2   http                   code.google.com/p/pylevenshtein/  None  None  None   \n",
       "3   http                                      linkedin.com/  None  None  None   \n",
       "4   http                 imageshack.com/f/219/cadir2yr3.jpg  None  None  None   \n",
       "\n",
       "      5     6  \n",
       "0  None  None  \n",
       "1  None  None  \n",
       "2  None  None  \n",
       "3  None  None  \n",
       "4  None  None  "
      ]
     },
     "execution_count": 6,
     "metadata": {},
     "output_type": "execute_result"
    }
   ],
   "source": [
    "seperation_of_protocol.head()"
   ]
  },
  {
   "cell_type": "code",
   "execution_count": 7,
   "id": "3e55e1ae",
   "metadata": {},
   "outputs": [
    {
     "data": {
      "text/plain": [
       "pandas.core.frame.DataFrame"
      ]
     },
     "execution_count": 7,
     "metadata": {},
     "output_type": "execute_result"
    }
   ],
   "source": [
    "type(seperation_of_protocol)"
   ]
  },
  {
   "cell_type": "code",
   "execution_count": 8,
   "id": "fdfe6542",
   "metadata": {},
   "outputs": [
    {
     "name": "stderr",
     "output_type": "stream",
     "text": [
      "C:\\Users\\dk382\\AppData\\Local\\Temp\\ipykernel_20036\\2695327230.py:1: FutureWarning: In a future version of pandas all arguments of StringMethods.split except for the argument 'pat' will be keyword-only.\n",
      "  seperation_domain_name = seperation_of_protocol[1].str.split(\"/\",1,expand = True)\n"
     ]
    }
   ],
   "source": [
    "seperation_domain_name = seperation_of_protocol[1].str.split(\"/\",1,expand = True)"
   ]
  },
  {
   "cell_type": "code",
   "execution_count": 9,
   "id": "091c25ef",
   "metadata": {},
   "outputs": [],
   "source": [
    "seperation_domain_name.columns=[\"domain_name\",\"address\"]"
   ]
  },
  {
   "cell_type": "code",
   "execution_count": 10,
   "id": "7b6d8f05",
   "metadata": {},
   "outputs": [],
   "source": [
    "splitted_data = pd.concat([seperation_of_protocol[0],seperation_domain_name],axis=1)"
   ]
  },
  {
   "cell_type": "code",
   "execution_count": 11,
   "id": "baa07394",
   "metadata": {},
   "outputs": [],
   "source": [
    "splitted_data.columns = ['protocol','domain_name','address']"
   ]
  },
  {
   "cell_type": "code",
   "execution_count": 12,
   "id": "3c20f043",
   "metadata": {},
   "outputs": [],
   "source": [
    "splitted_data['is_phished'] = pd.Series(raw_data['Target'], index=splitted_data.index)"
   ]
  },
  {
   "cell_type": "code",
   "execution_count": 13,
   "id": "30c75675",
   "metadata": {},
   "outputs": [
    {
     "data": {
      "text/html": [
       "<div>\n",
       "<style scoped>\n",
       "    .dataframe tbody tr th:only-of-type {\n",
       "        vertical-align: middle;\n",
       "    }\n",
       "\n",
       "    .dataframe tbody tr th {\n",
       "        vertical-align: top;\n",
       "    }\n",
       "\n",
       "    .dataframe thead th {\n",
       "        text-align: right;\n",
       "    }\n",
       "</style>\n",
       "<table border=\"1\" class=\"dataframe\">\n",
       "  <thead>\n",
       "    <tr style=\"text-align: right;\">\n",
       "      <th></th>\n",
       "      <th>protocol</th>\n",
       "      <th>domain_name</th>\n",
       "      <th>address</th>\n",
       "      <th>is_phished</th>\n",
       "    </tr>\n",
       "  </thead>\n",
       "  <tbody>\n",
       "    <tr>\n",
       "      <th>0</th>\n",
       "      <td>https</td>\n",
       "      <td>locking-app-adverds.000webhostapp.com</td>\n",
       "      <td>payment-update-0.html?fb_source=bookmark_apps&amp;...</td>\n",
       "      <td>yes</td>\n",
       "    </tr>\n",
       "    <tr>\n",
       "      <th>1</th>\n",
       "      <td>http</td>\n",
       "      <td>www.myhealthcarepharmacy.ca</td>\n",
       "      <td>wp-includes/js/jquery/ini.php</td>\n",
       "      <td>yes</td>\n",
       "    </tr>\n",
       "    <tr>\n",
       "      <th>2</th>\n",
       "      <td>http</td>\n",
       "      <td>code.google.com</td>\n",
       "      <td>p/pylevenshtein/</td>\n",
       "      <td>no</td>\n",
       "    </tr>\n",
       "    <tr>\n",
       "      <th>3</th>\n",
       "      <td>http</td>\n",
       "      <td>linkedin.com</td>\n",
       "      <td></td>\n",
       "      <td>no</td>\n",
       "    </tr>\n",
       "    <tr>\n",
       "      <th>4</th>\n",
       "      <td>http</td>\n",
       "      <td>imageshack.com</td>\n",
       "      <td>f/219/cadir2yr3.jpg</td>\n",
       "      <td>no</td>\n",
       "    </tr>\n",
       "    <tr>\n",
       "      <th>...</th>\n",
       "      <td>...</td>\n",
       "      <td>...</td>\n",
       "      <td>...</td>\n",
       "      <td>...</td>\n",
       "    </tr>\n",
       "    <tr>\n",
       "      <th>1776</th>\n",
       "      <td>https</td>\n",
       "      <td>docs.google.com</td>\n",
       "      <td>document/u/1/</td>\n",
       "      <td>no</td>\n",
       "    </tr>\n",
       "    <tr>\n",
       "      <th>1777</th>\n",
       "      <td>http</td>\n",
       "      <td>www.charlestodd.com</td>\n",
       "      <td>wp-includes/pomo/adobe2.html</td>\n",
       "      <td>yes</td>\n",
       "    </tr>\n",
       "    <tr>\n",
       "      <th>1778</th>\n",
       "      <td>http</td>\n",
       "      <td>tslimpact.com</td>\n",
       "      <td>medsynaptic/wp-content/themes/twentyseventeen/...</td>\n",
       "      <td>yes</td>\n",
       "    </tr>\n",
       "    <tr>\n",
       "      <th>1779</th>\n",
       "      <td>http</td>\n",
       "      <td>daoudilorin11.mystagingwebsite.com</td>\n",
       "      <td>wp-content/plugins/ubh/acc/dir/68e1c/dir/car.php</td>\n",
       "      <td>yes</td>\n",
       "    </tr>\n",
       "    <tr>\n",
       "      <th>1780</th>\n",
       "      <td>https</td>\n",
       "      <td>stom05.ru</td>\n",
       "      <td>asb.co.nz</td>\n",
       "      <td>yes</td>\n",
       "    </tr>\n",
       "  </tbody>\n",
       "</table>\n",
       "<p>1781 rows × 4 columns</p>\n",
       "</div>"
      ],
      "text/plain": [
       "     protocol                            domain_name  \\\n",
       "0       https  locking-app-adverds.000webhostapp.com   \n",
       "1        http            www.myhealthcarepharmacy.ca   \n",
       "2        http                        code.google.com   \n",
       "3        http                           linkedin.com   \n",
       "4        http                         imageshack.com   \n",
       "...       ...                                    ...   \n",
       "1776    https                        docs.google.com   \n",
       "1777     http                    www.charlestodd.com   \n",
       "1778     http                          tslimpact.com   \n",
       "1779     http     daoudilorin11.mystagingwebsite.com   \n",
       "1780    https                              stom05.ru   \n",
       "\n",
       "                                                address is_phished  \n",
       "0     payment-update-0.html?fb_source=bookmark_apps&...        yes  \n",
       "1                         wp-includes/js/jquery/ini.php        yes  \n",
       "2                                      p/pylevenshtein/         no  \n",
       "3                                                               no  \n",
       "4                                   f/219/cadir2yr3.jpg         no  \n",
       "...                                                 ...        ...  \n",
       "1776                                      document/u/1/         no  \n",
       "1777                       wp-includes/pomo/adobe2.html        yes  \n",
       "1778  medsynaptic/wp-content/themes/twentyseventeen/...        yes  \n",
       "1779   wp-content/plugins/ubh/acc/dir/68e1c/dir/car.php        yes  \n",
       "1780                                          asb.co.nz        yes  \n",
       "\n",
       "[1781 rows x 4 columns]"
      ]
     },
     "execution_count": 13,
     "metadata": {},
     "output_type": "execute_result"
    }
   ],
   "source": [
    "splitted_data"
   ]
  },
  {
   "cell_type": "code",
   "execution_count": 14,
   "id": "edde5bcd",
   "metadata": {},
   "outputs": [],
   "source": [
    "def long_url(l):\n",
    "    l= str(l)\n",
    "    \"\"\"This function is defined in order to differntiate website based on the length of the URL\"\"\"\n",
    "    if len(l) < 54:\n",
    "        return 0\n",
    "    elif len(l) >= 54 and len(l) <= 75:\n",
    "        return 2\n",
    "    return 1"
   ]
  },
  {
   "cell_type": "code",
   "execution_count": 15,
   "id": "b1d82f17",
   "metadata": {},
   "outputs": [],
   "source": [
    "splitted_data['long_url'] = raw_data['URL'].apply(long_url) "
   ]
  },
  {
   "cell_type": "code",
   "execution_count": 16,
   "id": "74771542",
   "metadata": {},
   "outputs": [
    {
     "data": {
      "text/html": [
       "<div>\n",
       "<style scoped>\n",
       "    .dataframe tbody tr th:only-of-type {\n",
       "        vertical-align: middle;\n",
       "    }\n",
       "\n",
       "    .dataframe tbody tr th {\n",
       "        vertical-align: top;\n",
       "    }\n",
       "\n",
       "    .dataframe thead th {\n",
       "        text-align: right;\n",
       "    }\n",
       "</style>\n",
       "<table border=\"1\" class=\"dataframe\">\n",
       "  <thead>\n",
       "    <tr style=\"text-align: right;\">\n",
       "      <th></th>\n",
       "      <th>protocol</th>\n",
       "      <th>domain_name</th>\n",
       "      <th>address</th>\n",
       "      <th>is_phished</th>\n",
       "      <th>long_url</th>\n",
       "    </tr>\n",
       "  </thead>\n",
       "  <tbody>\n",
       "    <tr>\n",
       "      <th>2</th>\n",
       "      <td>http</td>\n",
       "      <td>code.google.com</td>\n",
       "      <td>p/pylevenshtein/</td>\n",
       "      <td>no</td>\n",
       "      <td>0</td>\n",
       "    </tr>\n",
       "    <tr>\n",
       "      <th>3</th>\n",
       "      <td>http</td>\n",
       "      <td>linkedin.com</td>\n",
       "      <td></td>\n",
       "      <td>no</td>\n",
       "      <td>0</td>\n",
       "    </tr>\n",
       "    <tr>\n",
       "      <th>4</th>\n",
       "      <td>http</td>\n",
       "      <td>imageshack.com</td>\n",
       "      <td>f/219/cadir2yr3.jpg</td>\n",
       "      <td>no</td>\n",
       "      <td>0</td>\n",
       "    </tr>\n",
       "    <tr>\n",
       "      <th>6</th>\n",
       "      <td>http</td>\n",
       "      <td>www.7-zip.org</td>\n",
       "      <td>download.html</td>\n",
       "      <td>no</td>\n",
       "      <td>0</td>\n",
       "    </tr>\n",
       "    <tr>\n",
       "      <th>7</th>\n",
       "      <td>http</td>\n",
       "      <td>ebay.com</td>\n",
       "      <td></td>\n",
       "      <td>no</td>\n",
       "      <td>0</td>\n",
       "    </tr>\n",
       "    <tr>\n",
       "      <th>...</th>\n",
       "      <td>...</td>\n",
       "      <td>...</td>\n",
       "      <td>...</td>\n",
       "      <td>...</td>\n",
       "      <td>...</td>\n",
       "    </tr>\n",
       "    <tr>\n",
       "      <th>1766</th>\n",
       "      <td>http</td>\n",
       "      <td>malomolk.com</td>\n",
       "      <td>nab/cardinfo.html</td>\n",
       "      <td>yes</td>\n",
       "      <td>0</td>\n",
       "    </tr>\n",
       "    <tr>\n",
       "      <th>1774</th>\n",
       "      <td>http</td>\n",
       "      <td>www.dpincsupport.com</td>\n",
       "      <td></td>\n",
       "      <td>no</td>\n",
       "      <td>0</td>\n",
       "    </tr>\n",
       "    <tr>\n",
       "      <th>1775</th>\n",
       "      <td>https</td>\n",
       "      <td>bitcoin.org</td>\n",
       "      <td>en/</td>\n",
       "      <td>no</td>\n",
       "      <td>0</td>\n",
       "    </tr>\n",
       "    <tr>\n",
       "      <th>1776</th>\n",
       "      <td>https</td>\n",
       "      <td>docs.google.com</td>\n",
       "      <td>document/u/1/</td>\n",
       "      <td>no</td>\n",
       "      <td>0</td>\n",
       "    </tr>\n",
       "    <tr>\n",
       "      <th>1780</th>\n",
       "      <td>https</td>\n",
       "      <td>stom05.ru</td>\n",
       "      <td>asb.co.nz</td>\n",
       "      <td>yes</td>\n",
       "      <td>0</td>\n",
       "    </tr>\n",
       "  </tbody>\n",
       "</table>\n",
       "<p>745 rows × 5 columns</p>\n",
       "</div>"
      ],
      "text/plain": [
       "     protocol           domain_name              address is_phished  long_url\n",
       "2        http       code.google.com     p/pylevenshtein/         no         0\n",
       "3        http          linkedin.com                              no         0\n",
       "4        http        imageshack.com  f/219/cadir2yr3.jpg         no         0\n",
       "6        http         www.7-zip.org        download.html         no         0\n",
       "7        http              ebay.com                              no         0\n",
       "...       ...                   ...                  ...        ...       ...\n",
       "1766     http          malomolk.com    nab/cardinfo.html        yes         0\n",
       "1774     http  www.dpincsupport.com                              no         0\n",
       "1775    https           bitcoin.org                  en/         no         0\n",
       "1776    https       docs.google.com        document/u/1/         no         0\n",
       "1780    https             stom05.ru            asb.co.nz        yes         0\n",
       "\n",
       "[745 rows x 5 columns]"
      ]
     },
     "execution_count": 16,
     "metadata": {},
     "output_type": "execute_result"
    }
   ],
   "source": [
    "splitted_data[splitted_data.long_url == 0] "
   ]
  },
  {
   "cell_type": "code",
   "execution_count": 17,
   "id": "d2c9c053",
   "metadata": {},
   "outputs": [],
   "source": [
    "def have_at_symbol(l):\n",
    "    \"\"\"This function is used to check whether the URL contains @ symbol or not\"\"\"\n",
    "    if \"@\" in str(l):\n",
    "        return 1\n",
    "    return 0"
   ]
  },
  {
   "cell_type": "code",
   "execution_count": 18,
   "id": "227c668a",
   "metadata": {},
   "outputs": [],
   "source": [
    "splitted_data['having_@_symbol'] = raw_data['URL'].apply(have_at_symbol)"
   ]
  },
  {
   "cell_type": "code",
   "execution_count": 19,
   "id": "34852a38",
   "metadata": {},
   "outputs": [],
   "source": [
    "def redirection(l):\n",
    "    \"\"\"If the url has symbol(//) after protocol then such URL is to be classified as phishing \"\"\"\n",
    "    if \"//\" in str(l):\n",
    "        return 1\n",
    "    return 0"
   ]
  },
  {
   "cell_type": "code",
   "execution_count": 20,
   "id": "92694f28",
   "metadata": {},
   "outputs": [],
   "source": [
    "splitted_data['redirection_//_symbol'] = seperation_of_protocol[1].apply(redirection)"
   ]
  },
  {
   "cell_type": "code",
   "execution_count": 21,
   "id": "f906c72a",
   "metadata": {},
   "outputs": [],
   "source": [
    "def prefix_suffix_seperation(l):\n",
    "    if '-' in str(l):\n",
    "        return 1\n",
    "    return 0"
   ]
  },
  {
   "cell_type": "code",
   "execution_count": 22,
   "id": "b0f8fdf2",
   "metadata": {},
   "outputs": [],
   "source": [
    "splitted_data['prefix_suffix_seperation'] = seperation_domain_name['domain_name'].apply(prefix_suffix_seperation)"
   ]
  },
  {
   "cell_type": "code",
   "execution_count": 23,
   "id": "ff59b1b7",
   "metadata": {},
   "outputs": [],
   "source": [
    "def sub_domains(l):\n",
    "    l= str(l)\n",
    "    if l.count('.') < 3:\n",
    "        return 0\n",
    "    elif l.count('.') == 3:\n",
    "        return 2\n",
    "    return 1"
   ]
  },
  {
   "cell_type": "code",
   "execution_count": 24,
   "id": "2b36d5db",
   "metadata": {},
   "outputs": [],
   "source": [
    "splitted_data['sub_domains'] = splitted_data['domain_name'].apply(sub_domains)"
   ]
  },
  {
   "cell_type": "code",
   "execution_count": 25,
   "id": "f9f759ec",
   "metadata": {},
   "outputs": [],
   "source": [
    "from sklearn.ensemble import RandomForestClassifier\n",
    "from sklearn.metrics import confusion_matrix, accuracy_score"
   ]
  },
  {
   "cell_type": "code",
   "execution_count": 26,
   "id": "088f92b4",
   "metadata": {},
   "outputs": [
    {
     "data": {
      "text/plain": [
       "Index(['long_url', 'having_@_symbol', 'redirection_//_symbol',\n",
       "       'prefix_suffix_seperation', 'sub_domains'],\n",
       "      dtype='object')"
      ]
     },
     "execution_count": 26,
     "metadata": {},
     "output_type": "execute_result"
    }
   ],
   "source": [
    "x = splitted_data.columns[4:9]\n",
    "x "
   ]
  },
  {
   "cell_type": "code",
   "execution_count": 28,
   "id": "5f9a3aad",
   "metadata": {},
   "outputs": [
    {
     "data": {
      "text/plain": [
       "array([0, 0, 1, ..., 0, 0, 0], dtype=int64)"
      ]
     },
     "execution_count": 28,
     "metadata": {},
     "output_type": "execute_result"
    }
   ],
   "source": [
    "y = pd.factorize(splitted_data['is_phished'])[0]\n",
    "y "
   ]
  },
  {
   "cell_type": "code",
   "execution_count": 29,
   "id": "c2baa92a",
   "metadata": {},
   "outputs": [
    {
     "data": {
      "text/html": [
       "<style>#sk-container-id-1 {color: black;background-color: white;}#sk-container-id-1 pre{padding: 0;}#sk-container-id-1 div.sk-toggleable {background-color: white;}#sk-container-id-1 label.sk-toggleable__label {cursor: pointer;display: block;width: 100%;margin-bottom: 0;padding: 0.3em;box-sizing: border-box;text-align: center;}#sk-container-id-1 label.sk-toggleable__label-arrow:before {content: \"▸\";float: left;margin-right: 0.25em;color: #696969;}#sk-container-id-1 label.sk-toggleable__label-arrow:hover:before {color: black;}#sk-container-id-1 div.sk-estimator:hover label.sk-toggleable__label-arrow:before {color: black;}#sk-container-id-1 div.sk-toggleable__content {max-height: 0;max-width: 0;overflow: hidden;text-align: left;background-color: #f0f8ff;}#sk-container-id-1 div.sk-toggleable__content pre {margin: 0.2em;color: black;border-radius: 0.25em;background-color: #f0f8ff;}#sk-container-id-1 input.sk-toggleable__control:checked~div.sk-toggleable__content {max-height: 200px;max-width: 100%;overflow: auto;}#sk-container-id-1 input.sk-toggleable__control:checked~label.sk-toggleable__label-arrow:before {content: \"▾\";}#sk-container-id-1 div.sk-estimator input.sk-toggleable__control:checked~label.sk-toggleable__label {background-color: #d4ebff;}#sk-container-id-1 div.sk-label input.sk-toggleable__control:checked~label.sk-toggleable__label {background-color: #d4ebff;}#sk-container-id-1 input.sk-hidden--visually {border: 0;clip: rect(1px 1px 1px 1px);clip: rect(1px, 1px, 1px, 1px);height: 1px;margin: -1px;overflow: hidden;padding: 0;position: absolute;width: 1px;}#sk-container-id-1 div.sk-estimator {font-family: monospace;background-color: #f0f8ff;border: 1px dotted black;border-radius: 0.25em;box-sizing: border-box;margin-bottom: 0.5em;}#sk-container-id-1 div.sk-estimator:hover {background-color: #d4ebff;}#sk-container-id-1 div.sk-parallel-item::after {content: \"\";width: 100%;border-bottom: 1px solid gray;flex-grow: 1;}#sk-container-id-1 div.sk-label:hover label.sk-toggleable__label {background-color: #d4ebff;}#sk-container-id-1 div.sk-serial::before {content: \"\";position: absolute;border-left: 1px solid gray;box-sizing: border-box;top: 0;bottom: 0;left: 50%;z-index: 0;}#sk-container-id-1 div.sk-serial {display: flex;flex-direction: column;align-items: center;background-color: white;padding-right: 0.2em;padding-left: 0.2em;position: relative;}#sk-container-id-1 div.sk-item {position: relative;z-index: 1;}#sk-container-id-1 div.sk-parallel {display: flex;align-items: stretch;justify-content: center;background-color: white;position: relative;}#sk-container-id-1 div.sk-item::before, #sk-container-id-1 div.sk-parallel-item::before {content: \"\";position: absolute;border-left: 1px solid gray;box-sizing: border-box;top: 0;bottom: 0;left: 50%;z-index: -1;}#sk-container-id-1 div.sk-parallel-item {display: flex;flex-direction: column;z-index: 1;position: relative;background-color: white;}#sk-container-id-1 div.sk-parallel-item:first-child::after {align-self: flex-end;width: 50%;}#sk-container-id-1 div.sk-parallel-item:last-child::after {align-self: flex-start;width: 50%;}#sk-container-id-1 div.sk-parallel-item:only-child::after {width: 0;}#sk-container-id-1 div.sk-dashed-wrapped {border: 1px dashed gray;margin: 0 0.4em 0.5em 0.4em;box-sizing: border-box;padding-bottom: 0.4em;background-color: white;}#sk-container-id-1 div.sk-label label {font-family: monospace;font-weight: bold;display: inline-block;line-height: 1.2em;}#sk-container-id-1 div.sk-label-container {text-align: center;}#sk-container-id-1 div.sk-container {/* jupyter's `normalize.less` sets `[hidden] { display: none; }` but bootstrap.min.css set `[hidden] { display: none !important; }` so we also need the `!important` here to be able to override the default hidden behavior on the sphinx rendered scikit-learn.org. See: https://github.com/scikit-learn/scikit-learn/issues/21755 */display: inline-block !important;position: relative;}#sk-container-id-1 div.sk-text-repr-fallback {display: none;}</style><div id=\"sk-container-id-1\" class=\"sk-top-container\"><div class=\"sk-text-repr-fallback\"><pre>RandomForestClassifier(n_jobs=2, random_state=0)</pre><b>In a Jupyter environment, please rerun this cell to show the HTML representation or trust the notebook. <br />On GitHub, the HTML representation is unable to render, please try loading this page with nbviewer.org.</b></div><div class=\"sk-container\" hidden><div class=\"sk-item\"><div class=\"sk-estimator sk-toggleable\"><input class=\"sk-toggleable__control sk-hidden--visually\" id=\"sk-estimator-id-1\" type=\"checkbox\" checked><label for=\"sk-estimator-id-1\" class=\"sk-toggleable__label sk-toggleable__label-arrow\">RandomForestClassifier</label><div class=\"sk-toggleable__content\"><pre>RandomForestClassifier(n_jobs=2, random_state=0)</pre></div></div></div></div></div>"
      ],
      "text/plain": [
       "RandomForestClassifier(n_jobs=2, random_state=0)"
      ]
     },
     "execution_count": 29,
     "metadata": {},
     "output_type": "execute_result"
    }
   ],
   "source": [
    "clf = RandomForestClassifier(n_estimators=100,n_jobs=2,random_state=0)\n",
    "\n",
    "clf.fit(splitted_data[x], y)"
   ]
  },
  {
   "cell_type": "code",
   "execution_count": 30,
   "id": "33e400c1",
   "metadata": {},
   "outputs": [],
   "source": [
    "test_data = pd.read_csv(\"dataset3.csv\") "
   ]
  },
  {
   "cell_type": "code",
   "execution_count": 31,
   "id": "fa2e6a5c",
   "metadata": {},
   "outputs": [
    {
     "data": {
      "text/plain": [
       "array([0, 0, 1, 0, 1, 1, 0, 1, 1, 1, 1, 0, 0, 0, 0, 0, 1, 0, 0, 0, 0, 0,\n",
       "       0, 0, 0, 1, 1, 1, 0, 0, 1, 0, 1, 1, 1, 1, 0, 1, 0, 0, 1, 0, 0, 0,\n",
       "       0, 1, 0, 0, 0, 1, 1, 0, 1, 0, 1, 0, 1, 0, 0, 0, 0, 0, 0, 0, 0, 1,\n",
       "       1, 0, 1, 1, 1, 1, 1, 0, 1, 1, 1, 1, 0, 0, 1, 0, 1, 0, 0, 1, 0, 1,\n",
       "       0, 1, 1, 1, 1, 0, 1, 0, 1, 1, 0, 0, 0, 1, 1, 1, 0, 0, 1, 0, 0, 0,\n",
       "       0, 1, 0, 0, 0, 0, 0, 0, 1, 0, 0, 0, 0, 1, 1, 0, 0, 1, 0, 1, 1, 1,\n",
       "       0, 0, 0, 0, 1, 1, 0, 0, 0, 1, 0, 1, 1, 0, 0, 0, 1, 0, 1, 1, 0, 0,\n",
       "       0, 1, 1, 1, 0, 1, 1, 0, 0, 0, 0, 1, 0, 1, 0, 1, 0, 0, 0, 0, 0, 0,\n",
       "       0, 0, 1, 0, 0, 0, 0, 0, 1, 0, 0, 0, 0, 0, 1, 1, 0, 0, 1, 1, 1, 0,\n",
       "       0, 1, 0, 1, 0, 0, 0, 0, 1, 0, 1, 1, 0, 0, 0, 0, 0, 1, 1, 1, 0, 0,\n",
       "       0, 0, 1, 0, 1, 0, 0, 0, 0, 1, 0, 1, 1, 0, 0, 0, 0, 0, 0, 1, 1, 1,\n",
       "       0, 1, 0, 0, 1, 0, 0, 1, 0, 0, 0, 0, 0, 0, 0, 0, 1, 0, 1, 0, 0, 0,\n",
       "       0, 0, 0, 1, 1, 0, 0, 0, 0, 1, 0, 0, 1, 1, 1, 1, 0, 1, 0, 1, 0, 0,\n",
       "       0, 0, 1, 0, 1, 0, 0, 1, 0, 1, 1, 1, 0, 0, 1, 1, 0, 0, 1, 0, 0, 1,\n",
       "       1, 1, 1, 0, 1, 0, 0, 0, 0, 1, 1, 1, 0, 0, 0, 1, 0, 0, 0, 0, 0, 1,\n",
       "       1, 1, 0, 0, 0, 0, 1, 1, 1, 0, 1, 0, 0, 0, 1, 1, 0, 1, 1, 1, 1, 0,\n",
       "       0, 0, 1, 0, 0, 0, 0, 0, 1, 1, 0, 1, 1, 0, 0, 0, 1, 0, 0, 1, 0, 0,\n",
       "       0, 0, 1, 0, 1, 1, 1, 0, 1, 0, 0, 0, 1, 1, 1, 1], dtype=int64)"
      ]
     },
     "execution_count": 31,
     "metadata": {},
     "output_type": "execute_result"
    }
   ],
   "source": [
    "clf.predict(test_data[x])"
   ]
  },
  {
   "cell_type": "code",
   "execution_count": 32,
   "id": "37c7261f",
   "metadata": {},
   "outputs": [
    {
     "data": {
      "text/plain": [
       "array([[0.        , 0.88800564, 0.11199436],\n",
       "       [0.        , 0.50510239, 0.49489761],\n",
       "       [0.00135046, 0.32367919, 0.67497035],\n",
       "       [0.        , 0.50510239, 0.49489761],\n",
       "       [0.00135046, 0.32367919, 0.67497035],\n",
       "       [0.00135046, 0.32367919, 0.67497035],\n",
       "       [0.        , 0.53582536, 0.46417464],\n",
       "       [0.00135046, 0.32367919, 0.67497035],\n",
       "       [0.00135046, 0.32367919, 0.67497035],\n",
       "       [0.00135046, 0.32367919, 0.67497035]])"
      ]
     },
     "execution_count": 32,
     "metadata": {},
     "output_type": "execute_result"
    }
   ],
   "source": [
    "clf.predict_proba(test_data[x])[0:10]"
   ]
  },
  {
   "cell_type": "code",
   "execution_count": 33,
   "id": "e9c29f87",
   "metadata": {},
   "outputs": [],
   "source": [
    "preds = test_data.is_phished[clf.predict(test_data[x])]"
   ]
  },
  {
   "cell_type": "code",
   "execution_count": 34,
   "id": "40df8fa5",
   "metadata": {},
   "outputs": [],
   "source": [
    "actual = pd.Series(test_data['is_phished'])"
   ]
  },
  {
   "cell_type": "code",
   "execution_count": 35,
   "id": "e175d90c",
   "metadata": {},
   "outputs": [
    {
     "data": {
      "text/plain": [
       "array([[ 94,  80],\n",
       "       [ 64, 152]], dtype=int64)"
      ]
     },
     "execution_count": 35,
     "metadata": {},
     "output_type": "execute_result"
    }
   ],
   "source": [
    "confusion_matrix(actual,preds)"
   ]
  },
  {
   "cell_type": "code",
   "execution_count": 37,
   "id": "f62ba248",
   "metadata": {},
   "outputs": [
    {
     "data": {
      "text/plain": [
       "0.6307692307692307"
      ]
     },
     "execution_count": 37,
     "metadata": {},
     "output_type": "execute_result"
    }
   ],
   "source": [
    "accuracy_score(actual,preds)"
   ]
  },
  {
   "cell_type": "code",
   "execution_count": 38,
   "id": "6b4aa07c",
   "metadata": {},
   "outputs": [
    {
     "data": {
      "text/plain": [
       "[('long_url', 0.35581616461435084),\n",
       " ('having_@_symbol', 0.012201419675347217),\n",
       " ('redirection_//_symbol', 0.005280064350323051),\n",
       " ('prefix_suffix_seperation', 0.5700748206742969),\n",
       " ('sub_domains', 0.05662753068568203)]"
      ]
     },
     "execution_count": 38,
     "metadata": {},
     "output_type": "execute_result"
    }
   ],
   "source": [
    "list(zip(splitted_data[x], clf.feature_importances_))"
   ]
  },
  {
   "cell_type": "code",
   "execution_count": null,
   "id": "0ec3cb96",
   "metadata": {},
   "outputs": [],
   "source": []
  }
 ],
 "metadata": {
  "kernelspec": {
   "display_name": "Python 3 (ipykernel)",
   "language": "python",
   "name": "python3"
  },
  "language_info": {
   "codemirror_mode": {
    "name": "ipython",
    "version": 3
   },
   "file_extension": ".py",
   "mimetype": "text/x-python",
   "name": "python",
   "nbconvert_exporter": "python",
   "pygments_lexer": "ipython3",
   "version": "3.10.9"
  }
 },
 "nbformat": 4,
 "nbformat_minor": 5
}
